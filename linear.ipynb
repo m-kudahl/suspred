{
 "cells": [
  {
   "cell_type": "code",
   "execution_count": 1,
   "metadata": {},
   "outputs": [],
   "source": [
    "import pandas as pd\n",
    "import matplotlib.pyplot as plt\n",
    "import seaborn as sns\n",
    "from sklearn.model_selection import train_test_split\n",
    "from sklearn.linear_model import LinearRegression"
   ]
  },
  {
   "cell_type": "code",
   "execution_count": 2,
   "metadata": {},
   "outputs": [],
   "source": [
    "df = pd.read_csv(\"filtered_data.csv\")"
   ]
  },
  {
   "cell_type": "code",
   "execution_count": 3,
   "metadata": {},
   "outputs": [
    {
     "name": "stdout",
     "output_type": "stream",
     "text": [
      "0       5.259411\n",
      "1       9.593429\n",
      "2      13.612594\n",
      "3      12.599589\n",
      "4       8.739220\n",
      "         ...    \n",
      "231    13.054073\n",
      "232     7.148528\n",
      "233     5.982204\n",
      "234     3.835729\n",
      "235    13.166324\n",
      "Name: years_since, Length: 236, dtype: float64\n"
     ]
    }
   ],
   "source": [
    "df['STA-1'] = pd.to_datetime(df['STA-1'])\n",
    "# Step 2: Calculate the difference in years without NumPy\n",
    "reference_date = pd.to_datetime('2023-01-01')  # Choose a reference date\n",
    "df['years_since'] = (reference_date - df['STA-1']).dt.days / 365.25\n",
    "\n",
    "# Display only the 'years_since' column\n",
    "print(df['years_since'])"
   ]
  },
  {
   "cell_type": "code",
   "execution_count": 4,
   "metadata": {},
   "outputs": [
    {
     "name": "stdout",
     "output_type": "stream",
     "text": [
      "<class 'pandas.core.frame.DataFrame'>\n",
      "RangeIndex: 236 entries, 0 to 235\n",
      "Data columns (total 33 columns):\n",
      " #   Column            Non-Null Count  Dtype         \n",
      "---  ------            --------------  -----         \n",
      " 0   project           236 non-null    object        \n",
      " 1   COM-1             236 non-null    object        \n",
      " 2   COM-3             236 non-null    object        \n",
      " 3   POP-4             236 non-null    int64         \n",
      " 4   STA-1             236 non-null    datetime64[ns]\n",
      " 5   STA-2             236 non-null    int64         \n",
      " 6   STA-4             236 non-null    int64         \n",
      " 7   STA-5             236 non-null    object        \n",
      " 8   STA-6             236 non-null    int64         \n",
      " 9   STA-7             236 non-null    object        \n",
      " 10  STA-10            236 non-null    object        \n",
      " 11  STA-11            236 non-null    object        \n",
      " 12  STA-12            236 non-null    object        \n",
      " 13  TEC-1             236 non-null    int64         \n",
      " 14  TEC-2.1           207 non-null    object        \n",
      " 15  TEC-2.2           236 non-null    object        \n",
      " 16  TEC-2.3           208 non-null    object        \n",
      " 17  TEC-2.4           236 non-null    object        \n",
      " 18  TEC-4             236 non-null    object        \n",
      " 19  TEC-5             236 non-null    object        \n",
      " 20  SWQ-1             236 non-null    object        \n",
      " 21  SWQ-4.1           236 non-null    float64       \n",
      " 22  SWQ-4.2           236 non-null    int64         \n",
      " 23  SWQ-4.3           236 non-null    int64         \n",
      " 24  SWQ-4.4           236 non-null    int64         \n",
      " 25  SWQ-4.5           236 non-null    int64         \n",
      " 26  SWQ-4.6           232 non-null    float64       \n",
      " 27  SWQ-4.7           236 non-null    int64         \n",
      " 28  init              236 non-null    object        \n",
      " 29  end               236 non-null    object        \n",
      " 30  frequency(weeks)  236 non-null    int64         \n",
      " 31  project_url       236 non-null    object        \n",
      " 32  years_since       236 non-null    float64       \n",
      "dtypes: datetime64[ns](1), float64(3), int64(11), object(18)\n",
      "memory usage: 61.0+ KB\n"
     ]
    }
   ],
   "source": [
    "df.info()"
   ]
  },
  {
   "cell_type": "code",
   "execution_count": 5,
   "metadata": {},
   "outputs": [
    {
     "data": {
      "text/html": [
       "<div>\n",
       "<style scoped>\n",
       "    .dataframe tbody tr th:only-of-type {\n",
       "        vertical-align: middle;\n",
       "    }\n",
       "\n",
       "    .dataframe tbody tr th {\n",
       "        vertical-align: top;\n",
       "    }\n",
       "\n",
       "    .dataframe thead th {\n",
       "        text-align: right;\n",
       "    }\n",
       "</style>\n",
       "<table border=\"1\" class=\"dataframe\">\n",
       "  <thead>\n",
       "    <tr style=\"text-align: right;\">\n",
       "      <th></th>\n",
       "      <th>POP-4</th>\n",
       "      <th>STA-2</th>\n",
       "      <th>STA-4</th>\n",
       "      <th>STA-6</th>\n",
       "      <th>TEC-1</th>\n",
       "      <th>SWQ-4.1</th>\n",
       "      <th>SWQ-4.2</th>\n",
       "      <th>SWQ-4.3</th>\n",
       "      <th>SWQ-4.4</th>\n",
       "      <th>SWQ-4.5</th>\n",
       "      <th>SWQ-4.6</th>\n",
       "      <th>SWQ-4.7</th>\n",
       "      <th>frequency(weeks)</th>\n",
       "      <th>years_since</th>\n",
       "    </tr>\n",
       "  </thead>\n",
       "  <tbody>\n",
       "    <tr>\n",
       "      <th>count</th>\n",
       "      <td>236.000000</td>\n",
       "      <td>236.000000</td>\n",
       "      <td>236.000000</td>\n",
       "      <td>236.000000</td>\n",
       "      <td>236.000000</td>\n",
       "      <td>236.000000</td>\n",
       "      <td>236.000000</td>\n",
       "      <td>236.000000</td>\n",
       "      <td>236.000000</td>\n",
       "      <td>236.000000</td>\n",
       "      <td>232.000000</td>\n",
       "      <td>236.000000</td>\n",
       "      <td>236.0</td>\n",
       "      <td>236.000000</td>\n",
       "    </tr>\n",
       "    <tr>\n",
       "      <th>mean</th>\n",
       "      <td>6093.758475</td>\n",
       "      <td>132.741525</td>\n",
       "      <td>1061.385593</td>\n",
       "      <td>3.584746</td>\n",
       "      <td>784.097458</td>\n",
       "      <td>50.072246</td>\n",
       "      <td>16.788136</td>\n",
       "      <td>6.449153</td>\n",
       "      <td>19.983051</td>\n",
       "      <td>55.652542</td>\n",
       "      <td>16.853442</td>\n",
       "      <td>409.309322</td>\n",
       "      <td>12.0</td>\n",
       "      <td>9.203923</td>\n",
       "    </tr>\n",
       "    <tr>\n",
       "      <th>std</th>\n",
       "      <td>17429.283704</td>\n",
       "      <td>408.813942</td>\n",
       "      <td>3255.502603</td>\n",
       "      <td>3.673543</td>\n",
       "      <td>1881.302644</td>\n",
       "      <td>40.591363</td>\n",
       "      <td>15.990344</td>\n",
       "      <td>11.537615</td>\n",
       "      <td>50.665609</td>\n",
       "      <td>155.612879</td>\n",
       "      <td>12.197226</td>\n",
       "      <td>622.254858</td>\n",
       "      <td>0.0</td>\n",
       "      <td>2.817886</td>\n",
       "    </tr>\n",
       "    <tr>\n",
       "      <th>min</th>\n",
       "      <td>2.000000</td>\n",
       "      <td>-1219.000000</td>\n",
       "      <td>0.000000</td>\n",
       "      <td>0.000000</td>\n",
       "      <td>0.000000</td>\n",
       "      <td>0.000000</td>\n",
       "      <td>0.000000</td>\n",
       "      <td>0.000000</td>\n",
       "      <td>0.000000</td>\n",
       "      <td>0.000000</td>\n",
       "      <td>0.000000</td>\n",
       "      <td>0.000000</td>\n",
       "      <td>12.0</td>\n",
       "      <td>0.087611</td>\n",
       "    </tr>\n",
       "    <tr>\n",
       "      <th>25%</th>\n",
       "      <td>155.750000</td>\n",
       "      <td>6.000000</td>\n",
       "      <td>36.500000</td>\n",
       "      <td>1.000000</td>\n",
       "      <td>0.000000</td>\n",
       "      <td>19.557500</td>\n",
       "      <td>0.000000</td>\n",
       "      <td>0.000000</td>\n",
       "      <td>1.000000</td>\n",
       "      <td>3.000000</td>\n",
       "      <td>9.195651</td>\n",
       "      <td>146.500000</td>\n",
       "      <td>12.0</td>\n",
       "      <td>7.134839</td>\n",
       "    </tr>\n",
       "    <tr>\n",
       "      <th>50%</th>\n",
       "      <td>435.000000</td>\n",
       "      <td>59.000000</td>\n",
       "      <td>115.000000</td>\n",
       "      <td>2.000000</td>\n",
       "      <td>0.000000</td>\n",
       "      <td>43.405000</td>\n",
       "      <td>12.500000</td>\n",
       "      <td>1.000000</td>\n",
       "      <td>6.000000</td>\n",
       "      <td>16.000000</td>\n",
       "      <td>14.315029</td>\n",
       "      <td>257.500000</td>\n",
       "      <td>12.0</td>\n",
       "      <td>8.859685</td>\n",
       "    </tr>\n",
       "    <tr>\n",
       "      <th>75%</th>\n",
       "      <td>2910.000000</td>\n",
       "      <td>214.250000</td>\n",
       "      <td>628.750000</td>\n",
       "      <td>4.000000</td>\n",
       "      <td>530.250000</td>\n",
       "      <td>74.342500</td>\n",
       "      <td>33.000000</td>\n",
       "      <td>7.000000</td>\n",
       "      <td>18.000000</td>\n",
       "      <td>55.000000</td>\n",
       "      <td>20.166655</td>\n",
       "      <td>436.250000</td>\n",
       "      <td>12.0</td>\n",
       "      <td>11.392197</td>\n",
       "    </tr>\n",
       "    <tr>\n",
       "      <th>max</th>\n",
       "      <td>130120.000000</td>\n",
       "      <td>3357.000000</td>\n",
       "      <td>26996.000000</td>\n",
       "      <td>32.000000</td>\n",
       "      <td>12032.000000</td>\n",
       "      <td>315.720000</td>\n",
       "      <td>48.000000</td>\n",
       "      <td>50.000000</td>\n",
       "      <td>558.000000</td>\n",
       "      <td>1843.000000</td>\n",
       "      <td>83.803601</td>\n",
       "      <td>5637.000000</td>\n",
       "      <td>12.0</td>\n",
       "      <td>13.763176</td>\n",
       "    </tr>\n",
       "  </tbody>\n",
       "</table>\n",
       "</div>"
      ],
      "text/plain": [
       "               POP-4        STA-2         STA-4       STA-6         TEC-1  \\\n",
       "count     236.000000   236.000000    236.000000  236.000000    236.000000   \n",
       "mean     6093.758475   132.741525   1061.385593    3.584746    784.097458   \n",
       "std     17429.283704   408.813942   3255.502603    3.673543   1881.302644   \n",
       "min         2.000000 -1219.000000      0.000000    0.000000      0.000000   \n",
       "25%       155.750000     6.000000     36.500000    1.000000      0.000000   \n",
       "50%       435.000000    59.000000    115.000000    2.000000      0.000000   \n",
       "75%      2910.000000   214.250000    628.750000    4.000000    530.250000   \n",
       "max    130120.000000  3357.000000  26996.000000   32.000000  12032.000000   \n",
       "\n",
       "          SWQ-4.1     SWQ-4.2     SWQ-4.3     SWQ-4.4      SWQ-4.5  \\\n",
       "count  236.000000  236.000000  236.000000  236.000000   236.000000   \n",
       "mean    50.072246   16.788136    6.449153   19.983051    55.652542   \n",
       "std     40.591363   15.990344   11.537615   50.665609   155.612879   \n",
       "min      0.000000    0.000000    0.000000    0.000000     0.000000   \n",
       "25%     19.557500    0.000000    0.000000    1.000000     3.000000   \n",
       "50%     43.405000   12.500000    1.000000    6.000000    16.000000   \n",
       "75%     74.342500   33.000000    7.000000   18.000000    55.000000   \n",
       "max    315.720000   48.000000   50.000000  558.000000  1843.000000   \n",
       "\n",
       "          SWQ-4.6      SWQ-4.7  frequency(weeks)  years_since  \n",
       "count  232.000000   236.000000             236.0   236.000000  \n",
       "mean    16.853442   409.309322              12.0     9.203923  \n",
       "std     12.197226   622.254858               0.0     2.817886  \n",
       "min      0.000000     0.000000              12.0     0.087611  \n",
       "25%      9.195651   146.500000              12.0     7.134839  \n",
       "50%     14.315029   257.500000              12.0     8.859685  \n",
       "75%     20.166655   436.250000              12.0    11.392197  \n",
       "max     83.803601  5637.000000              12.0    13.763176  "
      ]
     },
     "execution_count": 5,
     "metadata": {},
     "output_type": "execute_result"
    }
   ],
   "source": [
    "df.describe()"
   ]
  },
  {
   "cell_type": "code",
   "execution_count": 6,
   "metadata": {},
   "outputs": [
    {
     "data": {
      "text/plain": [
       "204    13.612594\n",
       "25      6.442163\n",
       "86      9.130732\n",
       "184     8.188912\n",
       "84     13.262149\n",
       "         ...    \n",
       "106     8.780287\n",
       "14     13.251198\n",
       "92      8.761123\n",
       "179     6.532512\n",
       "102    12.054757\n",
       "Name: years_since, Length: 212, dtype: float64"
      ]
     },
     "execution_count": 6,
     "metadata": {},
     "output_type": "execute_result"
    }
   ],
   "source": [
    "X = df['years_since']\n",
    "y = df['POP-4']\n",
    "\n",
    "X_train, X_test, y_train, y_test = train_test_split(X,y, test_size=0.1, random_state=42)\n",
    "\n",
    "X_train"
   ]
  },
  {
   "cell_type": "code",
   "execution_count": 7,
   "metadata": {},
   "outputs": [
    {
     "ename": "KeyError",
     "evalue": "\"['COM-2'] not in index\"",
     "output_type": "error",
     "traceback": [
      "\u001b[1;31m---------------------------------------------------------------------------\u001b[0m",
      "\u001b[1;31mKeyError\u001b[0m                                  Traceback (most recent call last)",
      "Cell \u001b[1;32mIn[7], line 1\u001b[0m\n\u001b[1;32m----> 1\u001b[0m \u001b[43msns\u001b[49m\u001b[38;5;241;43m.\u001b[39;49m\u001b[43mlmplot\u001b[49m\u001b[43m(\u001b[49m\u001b[43mx\u001b[49m\u001b[43m \u001b[49m\u001b[38;5;241;43m=\u001b[39;49m\u001b[43m \u001b[49m\u001b[38;5;124;43m'\u001b[39;49m\u001b[38;5;124;43mSTA-7\u001b[39;49m\u001b[38;5;124;43m'\u001b[39;49m\u001b[43m,\u001b[49m\n\u001b[0;32m      2\u001b[0m \u001b[43m           \u001b[49m\u001b[43my\u001b[49m\u001b[43m \u001b[49m\u001b[38;5;241;43m=\u001b[39;49m\u001b[43m \u001b[49m\u001b[38;5;124;43m'\u001b[39;49m\u001b[38;5;124;43mCOM-2\u001b[39;49m\u001b[38;5;124;43m'\u001b[39;49m\u001b[43m,\u001b[49m\n\u001b[0;32m      3\u001b[0m \u001b[43m           \u001b[49m\u001b[43mdata\u001b[49m\u001b[43m \u001b[49m\u001b[38;5;241;43m=\u001b[39;49m\u001b[43m \u001b[49m\u001b[43mdf\u001b[49m\n\u001b[0;32m      4\u001b[0m \u001b[43m           \u001b[49m\u001b[43m)\u001b[49m\n",
      "File \u001b[1;32mc:\\Users\\MKL\\AppData\\Local\\Programs\\Python\\Python311\\Lib\\site-packages\\seaborn\\regression.py:611\u001b[0m, in \u001b[0;36mlmplot\u001b[1;34m(data, x, y, hue, col, row, palette, col_wrap, height, aspect, markers, sharex, sharey, hue_order, col_order, row_order, legend, legend_out, x_estimator, x_bins, x_ci, scatter, fit_reg, ci, n_boot, units, seed, order, logistic, lowess, robust, logx, x_partial, y_partial, truncate, x_jitter, y_jitter, scatter_kws, line_kws, facet_kws)\u001b[0m\n\u001b[0;32m    609\u001b[0m need_cols \u001b[38;5;241m=\u001b[39m [x, y, hue, col, row, units, x_partial, y_partial]\n\u001b[0;32m    610\u001b[0m cols \u001b[38;5;241m=\u001b[39m np\u001b[38;5;241m.\u001b[39munique([a \u001b[38;5;28;01mfor\u001b[39;00m a \u001b[38;5;129;01min\u001b[39;00m need_cols \u001b[38;5;28;01mif\u001b[39;00m a \u001b[38;5;129;01mis\u001b[39;00m \u001b[38;5;129;01mnot\u001b[39;00m \u001b[38;5;28;01mNone\u001b[39;00m])\u001b[38;5;241m.\u001b[39mtolist()\n\u001b[1;32m--> 611\u001b[0m data \u001b[38;5;241m=\u001b[39m \u001b[43mdata\u001b[49m\u001b[43m[\u001b[49m\u001b[43mcols\u001b[49m\u001b[43m]\u001b[49m\n\u001b[0;32m    613\u001b[0m \u001b[38;5;66;03m# Initialize the grid\u001b[39;00m\n\u001b[0;32m    614\u001b[0m facets \u001b[38;5;241m=\u001b[39m FacetGrid(\n\u001b[0;32m    615\u001b[0m     data, row\u001b[38;5;241m=\u001b[39mrow, col\u001b[38;5;241m=\u001b[39mcol, hue\u001b[38;5;241m=\u001b[39mhue,\n\u001b[0;32m    616\u001b[0m     palette\u001b[38;5;241m=\u001b[39mpalette,\n\u001b[1;32m   (...)\u001b[0m\n\u001b[0;32m    619\u001b[0m     \u001b[38;5;241m*\u001b[39m\u001b[38;5;241m*\u001b[39mfacet_kws,\n\u001b[0;32m    620\u001b[0m )\n",
      "File \u001b[1;32mc:\\Users\\MKL\\AppData\\Local\\Programs\\Python\\Python311\\Lib\\site-packages\\pandas\\core\\frame.py:3813\u001b[0m, in \u001b[0;36mDataFrame.__getitem__\u001b[1;34m(self, key)\u001b[0m\n\u001b[0;32m   3811\u001b[0m     \u001b[38;5;28;01mif\u001b[39;00m is_iterator(key):\n\u001b[0;32m   3812\u001b[0m         key \u001b[38;5;241m=\u001b[39m \u001b[38;5;28mlist\u001b[39m(key)\n\u001b[1;32m-> 3813\u001b[0m     indexer \u001b[38;5;241m=\u001b[39m \u001b[38;5;28;43mself\u001b[39;49m\u001b[38;5;241;43m.\u001b[39;49m\u001b[43mcolumns\u001b[49m\u001b[38;5;241;43m.\u001b[39;49m\u001b[43m_get_indexer_strict\u001b[49m\u001b[43m(\u001b[49m\u001b[43mkey\u001b[49m\u001b[43m,\u001b[49m\u001b[43m \u001b[49m\u001b[38;5;124;43m\"\u001b[39;49m\u001b[38;5;124;43mcolumns\u001b[39;49m\u001b[38;5;124;43m\"\u001b[39;49m\u001b[43m)\u001b[49m[\u001b[38;5;241m1\u001b[39m]\n\u001b[0;32m   3815\u001b[0m \u001b[38;5;66;03m# take() does not accept boolean indexers\u001b[39;00m\n\u001b[0;32m   3816\u001b[0m \u001b[38;5;28;01mif\u001b[39;00m \u001b[38;5;28mgetattr\u001b[39m(indexer, \u001b[38;5;124m\"\u001b[39m\u001b[38;5;124mdtype\u001b[39m\u001b[38;5;124m\"\u001b[39m, \u001b[38;5;28;01mNone\u001b[39;00m) \u001b[38;5;241m==\u001b[39m \u001b[38;5;28mbool\u001b[39m:\n",
      "File \u001b[1;32mc:\\Users\\MKL\\AppData\\Local\\Programs\\Python\\Python311\\Lib\\site-packages\\pandas\\core\\indexes\\base.py:6070\u001b[0m, in \u001b[0;36mIndex._get_indexer_strict\u001b[1;34m(self, key, axis_name)\u001b[0m\n\u001b[0;32m   6067\u001b[0m \u001b[38;5;28;01melse\u001b[39;00m:\n\u001b[0;32m   6068\u001b[0m     keyarr, indexer, new_indexer \u001b[38;5;241m=\u001b[39m \u001b[38;5;28mself\u001b[39m\u001b[38;5;241m.\u001b[39m_reindex_non_unique(keyarr)\n\u001b[1;32m-> 6070\u001b[0m \u001b[38;5;28;43mself\u001b[39;49m\u001b[38;5;241;43m.\u001b[39;49m\u001b[43m_raise_if_missing\u001b[49m\u001b[43m(\u001b[49m\u001b[43mkeyarr\u001b[49m\u001b[43m,\u001b[49m\u001b[43m \u001b[49m\u001b[43mindexer\u001b[49m\u001b[43m,\u001b[49m\u001b[43m \u001b[49m\u001b[43maxis_name\u001b[49m\u001b[43m)\u001b[49m\n\u001b[0;32m   6072\u001b[0m keyarr \u001b[38;5;241m=\u001b[39m \u001b[38;5;28mself\u001b[39m\u001b[38;5;241m.\u001b[39mtake(indexer)\n\u001b[0;32m   6073\u001b[0m \u001b[38;5;28;01mif\u001b[39;00m \u001b[38;5;28misinstance\u001b[39m(key, Index):\n\u001b[0;32m   6074\u001b[0m     \u001b[38;5;66;03m# GH 42790 - Preserve name from an Index\u001b[39;00m\n",
      "File \u001b[1;32mc:\\Users\\MKL\\AppData\\Local\\Programs\\Python\\Python311\\Lib\\site-packages\\pandas\\core\\indexes\\base.py:6133\u001b[0m, in \u001b[0;36mIndex._raise_if_missing\u001b[1;34m(self, key, indexer, axis_name)\u001b[0m\n\u001b[0;32m   6130\u001b[0m     \u001b[38;5;28;01mraise\u001b[39;00m \u001b[38;5;167;01mKeyError\u001b[39;00m(\u001b[38;5;124mf\u001b[39m\u001b[38;5;124m\"\u001b[39m\u001b[38;5;124mNone of [\u001b[39m\u001b[38;5;132;01m{\u001b[39;00mkey\u001b[38;5;132;01m}\u001b[39;00m\u001b[38;5;124m] are in the [\u001b[39m\u001b[38;5;132;01m{\u001b[39;00maxis_name\u001b[38;5;132;01m}\u001b[39;00m\u001b[38;5;124m]\u001b[39m\u001b[38;5;124m\"\u001b[39m)\n\u001b[0;32m   6132\u001b[0m not_found \u001b[38;5;241m=\u001b[39m \u001b[38;5;28mlist\u001b[39m(ensure_index(key)[missing_mask\u001b[38;5;241m.\u001b[39mnonzero()[\u001b[38;5;241m0\u001b[39m]]\u001b[38;5;241m.\u001b[39munique())\n\u001b[1;32m-> 6133\u001b[0m \u001b[38;5;28;01mraise\u001b[39;00m \u001b[38;5;167;01mKeyError\u001b[39;00m(\u001b[38;5;124mf\u001b[39m\u001b[38;5;124m\"\u001b[39m\u001b[38;5;132;01m{\u001b[39;00mnot_found\u001b[38;5;132;01m}\u001b[39;00m\u001b[38;5;124m not in index\u001b[39m\u001b[38;5;124m\"\u001b[39m)\n",
      "\u001b[1;31mKeyError\u001b[0m: \"['COM-2'] not in index\""
     ]
    }
   ],
   "source": [
    "sns.lmplot(x = 'STA-7',\n",
    "           y = 'COM-2',\n",
    "           data = df\n",
    "           )"
   ]
  },
  {
   "cell_type": "code",
   "execution_count": null,
   "metadata": {},
   "outputs": [],
   "source": [
    "lm = LinearRegression()"
   ]
  },
  {
   "cell_type": "code",
   "execution_count": null,
   "metadata": {},
   "outputs": [],
   "source": [
    "lm.fit(X_train, y_train)\n",
    "LinearRegression()"
   ]
  },
  {
   "cell_type": "code",
   "execution_count": null,
   "metadata": {},
   "outputs": [],
   "source": [
    "lm.coef_"
   ]
  },
  {
   "cell_type": "code",
   "execution_count": null,
   "metadata": {},
   "outputs": [],
   "source": [
    "cdf = pd.DataFrame(lm.coef_, X.columns, columns=['Coef'])\n",
    "print(cdf)\n"
   ]
  },
  {
   "cell_type": "code",
   "execution_count": null,
   "metadata": {},
   "outputs": [],
   "source": [
    "predictions = lm.predict(X_test)"
   ]
  },
  {
   "cell_type": "code",
   "execution_count": null,
   "metadata": {},
   "outputs": [],
   "source": [
    "predictions"
   ]
  }
 ],
 "metadata": {
  "kernelspec": {
   "display_name": "Python 3",
   "language": "python",
   "name": "python3"
  },
  "language_info": {
   "codemirror_mode": {
    "name": "ipython",
    "version": 3
   },
   "file_extension": ".py",
   "mimetype": "text/x-python",
   "name": "python",
   "nbconvert_exporter": "python",
   "pygments_lexer": "ipython3",
   "version": "3.11.0"
  }
 },
 "nbformat": 4,
 "nbformat_minor": 2
}
