{
 "cells": [
  {
   "cell_type": "code",
   "execution_count": 82,
   "metadata": {},
   "outputs": [
    {
     "name": "stdout",
     "output_type": "stream",
     "text": [
      "<class 'pandas.core.frame.DataFrame'>\n",
      "RangeIndex: 236 entries, 0 to 235\n",
      "Data columns (total 32 columns):\n",
      " #   Column            Non-Null Count  Dtype  \n",
      "---  ------            --------------  -----  \n",
      " 0   project           236 non-null    object \n",
      " 1   COM-1             236 non-null    object \n",
      " 2   COM-3             236 non-null    object \n",
      " 3   POP-4             236 non-null    int64  \n",
      " 4   STA-1             236 non-null    object \n",
      " 5   STA-2             236 non-null    object \n",
      " 6   STA-4             236 non-null    int64  \n",
      " 7   STA-5             236 non-null    object \n",
      " 8   STA-6             236 non-null    int64  \n",
      " 9   STA-7             236 non-null    object \n",
      " 10  STA-10            236 non-null    object \n",
      " 11  STA-11            236 non-null    object \n",
      " 12  STA-12            236 non-null    object \n",
      " 13  TEC-1             236 non-null    int64  \n",
      " 14  TEC-2.1           207 non-null    object \n",
      " 15  TEC-2.2           236 non-null    object \n",
      " 16  TEC-2.3           208 non-null    object \n",
      " 17  TEC-2.4           236 non-null    object \n",
      " 18  TEC-4             236 non-null    object \n",
      " 19  TEC-5             236 non-null    object \n",
      " 20  SWQ-1             236 non-null    object \n",
      " 21  SWQ-4.1           236 non-null    float64\n",
      " 22  SWQ-4.2           236 non-null    int64  \n",
      " 23  SWQ-4.3           236 non-null    int64  \n",
      " 24  SWQ-4.4           236 non-null    int64  \n",
      " 25  SWQ-4.5           236 non-null    int64  \n",
      " 26  SWQ-4.6           232 non-null    float64\n",
      " 27  SWQ-4.7           236 non-null    int64  \n",
      " 28  init              236 non-null    object \n",
      " 29  end               236 non-null    object \n",
      " 30  frequency(weeks)  236 non-null    int64  \n",
      " 31  project_url       236 non-null    object \n",
      "dtypes: float64(2), int64(10), object(20)\n",
      "memory usage: 59.1+ KB\n"
     ]
    }
   ],
   "source": [
    "df.info()"
   ]
  }
 ],
 "metadata": {
  "kernelspec": {
   "display_name": "Python 3",
   "language": "python",
   "name": "python3"
  },
  "language_info": {
   "codemirror_mode": {
    "name": "ipython",
    "version": 3
   },
   "file_extension": ".py",
   "mimetype": "text/x-python",
   "name": "python",
   "nbconvert_exporter": "python",
   "pygments_lexer": "ipython3",
   "version": "3.11.0"
  }
 },
 "nbformat": 4,
 "nbformat_minor": 2
}
